{
 "cells": [
  {
   "cell_type": "code",
   "execution_count": 140,
   "metadata": {},
   "outputs": [],
   "source": [
    "from tabula import read_pdf \n",
    "import numpy as np\n",
    "import pandas as pd"
   ]
  },
  {
   "cell_type": "code",
   "execution_count": 141,
   "metadata": {
    "scrolled": true
   },
   "outputs": [],
   "source": [
    "data_2012 = read_pdf('/Users/kosuke/研究/空港管理状況調書/平成24年空港管理状況調書.pdf',\n",
    "                     pages=[1, 3, 6, 7, 18, 25], multiple_tables=True)\n",
    "data_2013 = read_pdf('/Users/kosuke/研究/空港管理状況調書/平成25年空港管理状況調書.pdf', \n",
    "                     pages=[1, 3, 6, 7, 17, 24], multiple_tables=True)\n",
    "data_2014 = read_pdf('/Users/kosuke/研究/空港管理状況調書/平成26年空港管理状況調書.pdf',\n",
    "                     pages=[1, 3, 6, 7, 17, 24], multiple_tables=True)\n",
    "data_2015 = read_pdf('/Users/kosuke/研究/空港管理状況調書/平成27年空港管理状況調書.pdf',\n",
    "                     pages=[1, 3, 6, 7, 17, 24], multiple_tables=True)\n",
    "data_2016 = read_pdf('/Users/kosuke/研究/空港管理状況調書/平成28年空港管理状況調書.pdf',\n",
    "                     pages=[1, 3, 6, 7, 17, 24], multiple_tables=True)"
   ]
  },
  {
   "cell_type": "code",
   "execution_count": 142,
   "metadata": {},
   "outputs": [],
   "source": [
    "data_2012 = data_2012[0:12:2]\n",
    "data_2013 = data_2013[0:12:2]\n",
    "data_2014 = data_2014[0:12:2]\n",
    "data_2015 = data_2015[0:12:2]\n",
    "data_2016 = data_2016[0:12:2]"
   ]
  },
  {
   "cell_type": "code",
   "execution_count": 162,
   "metadata": {},
   "outputs": [],
   "source": [
    "airport_list = [\"narita\", \"kanku\", \"haneda\", \"titose\", \"fukuoka\", \"naha\"]\n",
    "columns_list = [\"国際乗客\", \"国際降客\", \"国際通過\", \"国際小計\",\n",
    "              \"国内乗客\", \"国内降客\", \"国内小計\", \"合計\"]"
   ]
  },
  {
   "cell_type": "code",
   "execution_count": 163,
   "metadata": {
    "scrolled": true
   },
   "outputs": [],
   "source": [
    "time = []\n",
    "for i in range(5):\n",
    "    for j in range(12):\n",
    "        time.append(str(2012 + i) + '-' + str(j + 1))"
   ]
  },
  {
   "cell_type": "code",
   "execution_count": 164,
   "metadata": {},
   "outputs": [],
   "source": [
    "for i in range(6):\n",
    "    if i == 2:\n",
    "        target_data_2012 = data_2012[i].iloc[np.arange(3,15), np.r_[np.arange(5,9), np.arange(12,16)]]\n",
    "        target_data_2013 = data_2013[i].iloc[np.arange(3,15), np.r_[np.arange(5,9), np.arange(12,16)]]\n",
    "        target_data_2014 = data_2014[i].iloc[np.arange(3,15), np.r_[np.arange(4,8), np.arange(11,15)]]\n",
    "        target_data_2015 = data_2015[i].iloc[np.arange(3,15), np.r_[np.arange(4,8), np.arange(11,15)]]\n",
    "        target_data_2016 = data_2016[i].iloc[np.arange(3,15), np.r_[np.arange(4,8), np.arange(11,15)]]\n",
    "    elif i == 3:\n",
    "        target_data_2012 = data_2012[i].iloc[np.arange(3,15), np.r_[6, 7, 9, 10, np.arange(14,18)]]\n",
    "        target_data_2013 = data_2013[i].iloc[np.arange(3,15), np.r_[6, 7, 9, 10, np.arange(14,18)]]\n",
    "        target_data_2014 = data_2014[i].iloc[np.arange(3,15), np.r_[5, 6, 8, 9, np.arange(13,17)]]\n",
    "        target_data_2015 = data_2015[i].iloc[np.arange(3,15), np.r_[5, 6, 8, 9, np.arange(13,17)]]\n",
    "        target_data_2016 = data_2016[i].iloc[np.arange(3,15), np.r_[5, 6, 8, 9, np.arange(13,17)]]\n",
    "    elif i == 4:\n",
    "        target_data_2012 = data_2012[i].iloc[np.arange(3,15), np.r_[6, 7, 8, 10, np.arange(14,18)]]\n",
    "        target_data_2013 = data_2013[i].iloc[np.arange(3,15), np.r_[np.arange(6,10), np.arange(13,17)]]\n",
    "        target_data_2014 = data_2014[i].iloc[np.arange(3,15), np.r_[np.arange(5,9), np.arange(12,16)]]\n",
    "        target_data_2015 = data_2015[i].iloc[np.arange(3,15), np.r_[np.arange(5,9), np.arange(12,16)]]\n",
    "        target_data_2016 = data_2016[i].iloc[np.arange(3,15), np.r_[np.arange(5,9), np.arange(12,16)]]\n",
    "    elif i == 5:\n",
    "        target_data_2012 = data_2012[i].iloc[np.arange(3,15), np.r_[6, 7, 8, 10, np.arange(14,18)]]\n",
    "        target_data_2013 = data_2013[i].iloc[np.arange(3,15), np.r_[6, 7, 9, 10, np.arange(14,18)]]\n",
    "        target_data_2014 = data_2014[i].iloc[np.arange(3,15), np.r_[5, 6, 7, 9, np.arange(13,17)]]\n",
    "        target_data_2015 = data_2015[i].iloc[np.arange(3,15), np.r_[5, 6, 7, 9, np.arange(13,17)]]\n",
    "        target_data_2016 = data_2016[i].iloc[np.arange(3,15), np.r_[5, 6, 7, 9, np.arange(13,17)]]\n",
    "    else:\n",
    "        target_data_2012 = data_2012[i].iloc[np.arange(3,15), np.r_[np.arange(6,10), np.arange(13,17)]]\n",
    "        target_data_2013 = data_2013[i].iloc[np.arange(3,15), np.r_[np.arange(6,10), np.arange(13,17)]]\n",
    "        target_data_2014 = data_2014[i].iloc[np.arange(3,15), np.r_[np.arange(5,9), np.arange(12,16)]]\n",
    "        target_data_2015 = data_2015[i].iloc[np.arange(3,15), np.r_[np.arange(5,9), np.arange(12,16)]]\n",
    "        target_data_2016 = data_2016[i].iloc[np.arange(3,15), np.r_[np.arange(5,9), np.arange(12,16)]]\n",
    "    target_data_2012.columns = columns_list\n",
    "    target_data_2013.columns = columns_list\n",
    "    target_data_2014.columns = columns_list\n",
    "    target_data_2015.columns = columns_list\n",
    "    target_data_2016.columns = columns_list\n",
    "    target_data = pd.concat([target_data_2012,\n",
    "                             target_data_2013,\n",
    "                             target_data_2014,\n",
    "                             target_data_2015,\n",
    "                             target_data_2016])\n",
    "    target_data = target_data.applymap(lambda x: x.replace(',', ''))\n",
    "    target_data = target_data.applymap(lambda x: int(x))\n",
    "    target_data['月'] = time\n",
    "    file_name = airport_list[i] + '_num_passengers.csv'\n",
    "    target_data.to_csv(path_or_buf=file_name, encoding='cp932', index=False)"
   ]
  },
  {
   "cell_type": "code",
   "execution_count": null,
   "metadata": {},
   "outputs": [],
   "source": []
  }
 ],
 "metadata": {
  "kernelspec": {
   "display_name": "Python 3",
   "language": "python",
   "name": "python3"
  },
  "language_info": {
   "codemirror_mode": {
    "name": "ipython",
    "version": 3
   },
   "file_extension": ".py",
   "mimetype": "text/x-python",
   "name": "python",
   "nbconvert_exporter": "python",
   "pygments_lexer": "ipython3",
   "version": "3.6.0"
  }
 },
 "nbformat": 4,
 "nbformat_minor": 2
}
