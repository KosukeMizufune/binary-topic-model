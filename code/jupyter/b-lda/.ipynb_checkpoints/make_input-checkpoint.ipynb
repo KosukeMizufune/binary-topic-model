{
 "cells": [
  {
   "cell_type": "markdown",
   "metadata": {},
   "source": [
    "# 種々の入力データをさく"
   ]
  },
  {
   "cell_type": "code",
   "execution_count": 1,
   "metadata": {},
   "outputs": [],
   "source": [
    "library(lda)\n",
    "source('/Users/kosuke/thesis/airport_thesis/code/utils/date.R')"
   ]
  },
  {
   "cell_type": "code",
   "execution_count": null,
   "metadata": {},
   "outputs": [],
   "source": [
    "data <- read.csv(\"/Users/kosuke/thesis/airport_thesis/data/mid/corpus/airport_review_complete.csv\", stringsAsFactors=F)\n",
    "review <- read.csv(\"/Users/kosuke/thesis/airport_thesis/data/mid/corpus/morphed_text.csv\", stringsAsFactors=F)\n",
    "data$yymm <- as.Date(apply(as.data.frame(data$datetime), 1, get_monthly))\n",
    "data$review <- review\n",
    "target_data <- data[data$yymm >= '2012-01-01',]\n",
    "target_review <- target_data$review\n",
    "\n",
    "bow <- lexicalize(target_review$text)\n",
    "word_count <- word.counts(bow$documents)\n",
    "vocab <- bow$vocab[word_count > 0]\n",
    "vocab <- data.frame(vocab)\n",
    "write.csv(vocab, \"/Users/kosuke/thesis/airport_thesis/data/mid/corpus/vocab.csv\", row.names=F)"
   ]
  },
  {
   "cell_type": "code",
   "execution_count": null,
   "metadata": {},
   "outputs": [],
   "source": [
    "corpus <- create_tags_corpus(target_review$text, 0, data$Recommended)\n",
    "write.csv(as.data.frame(corpus), \"/Users/kosuke/thesis/airport_thesis/data/mid/corpus/corpus.csv\", row.names=F)"
   ]
  },
  {
   "cell_type": "code",
   "execution_count": null,
   "metadata": {},
   "outputs": [],
   "source": [
    "data <- read.csv(\"/Users/kosuke/thesis/airport_thesis/data/mid/corpus/airport_review_complete.csv\", stringsAsFactors=F)\n",
    "review <- read.csv(\"/Users/kosuke/thesis/airport_thesis/data/mid/corpus/morphed_text.csv\", stringsAsFactors=F)\n",
    "data$yymm <- as.Date(apply(as.data.frame(data$datetime), 1, get_monthly))\n",
    "target_data <- data[data$yymm >= '2012-01-01',]\n",
    "write.csv(target_data, \"/Users/kosuke/thesis/airport_thesis/data/mid/corpus/airport_review_target.csv\", row.names=F)"
   ]
  }
 ],
 "metadata": {
  "kernelspec": {
   "display_name": "R",
   "language": "R",
   "name": "ir"
  },
  "language_info": {
   "codemirror_mode": "r",
   "file_extension": ".r",
   "mimetype": "text/x-r-source",
   "name": "R",
   "pygments_lexer": "r",
   "version": "3.3.3"
  }
 },
 "nbformat": 4,
 "nbformat_minor": 2
}
