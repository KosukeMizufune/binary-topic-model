{
 "cells": [
  {
   "cell_type": "markdown",
   "metadata": {},
   "source": [
    "# B-LDA"
   ]
  },
  {
   "cell_type": "code",
   "execution_count": 1,
   "metadata": {},
   "outputs": [
    {
     "name": "stderr",
     "output_type": "stream",
     "text": [
      "\n",
      "Attaching package: ‘dplyr’\n",
      "\n",
      "The following objects are masked from ‘package:stats’:\n",
      "\n",
      "    filter, lag\n",
      "\n",
      "The following objects are masked from ‘package:base’:\n",
      "\n",
      "    intersect, setdiff, setequal, union\n",
      "\n",
      "Loading required package: gplots\n",
      "\n",
      "Attaching package: ‘gplots’\n",
      "\n",
      "The following object is masked from ‘package:stats’:\n",
      "\n",
      "    lowess\n",
      "\n"
     ]
    }
   ],
   "source": [
    "library(ggplot2)\n",
    "library(RcppArmadillo)\n",
    "library(reshape2)\n",
    "library(Rcpp)\n",
    "library(Matrix)\n",
    "library(dplyr)\n",
    "library(stringr)\n",
    "library(ROCR)\n",
    "source(\"/Users/kosuke/thesis/airport_thesis/code/utils/calc_lda_param.R\")\n",
    "source(\"/Users/kosuke/thesis/airport_thesis/code/utils/hold-out.R\")\n",
    "options(warn=-1)\n",
    "options(scipen=10)"
   ]
  },
  {
   "cell_type": "code",
   "execution_count": 26,
   "metadata": {},
   "outputs": [],
   "source": [
    "data <- read.csv(\"/Users/kosuke/thesis/airport_thesis/data/mid/corpus/recommend.csv\", stringsAsFactors=F)\n",
    "train_corpus <- read.csv(\"/Users/kosuke/thesis/airport_thesis/data/mid/corpus/train_corpus.csv\")\n",
    "test_corpus <- read.csv(\"/Users/kosuke/thesis/airport_thesis/data/mid/corpus/test_corpus.csv\")\n",
    "\n",
    "bound <- min(test_corpus[,2])\n",
    "test_y <- data[bound:nrow(data),]\n",
    "test_y <- as.vector(sapply(test_y, replace_y, \"no\"))\n"
   ]
  },
  {
   "cell_type": "code",
   "execution_count": 20,
   "metadata": {
    "scrolled": true
   },
   "outputs": [
    {
     "data": {
      "text/html": [
       "49.2236665172568"
      ],
      "text/latex": [
       "49.2236665172568"
      ],
      "text/markdown": [
       "49.2236665172568"
      ],
      "text/plain": [
       "[1] 49.22367"
      ]
     },
     "metadata": {},
     "output_type": "display_data"
    },
    {
     "data": {
      "text/html": [
       "42"
      ],
      "text/latex": [
       "42"
      ],
      "text/markdown": [
       "42"
      ],
      "text/plain": [
       "[1] 42"
      ]
     },
     "metadata": {},
     "output_type": "display_data"
    },
    {
     "data": {
      "text/html": [
       "30.4848550171878"
      ],
      "text/latex": [
       "30.4848550171878"
      ],
      "text/markdown": [
       "30.4848550171878"
      ],
      "text/plain": [
       "[1] 30.48486"
      ]
     },
     "metadata": {},
     "output_type": "display_data"
    }
   ],
   "source": [
    "word_len <- aggregate(train_corpus[, c(1)], by=list(train_corpus[, 2]), length)\n",
    "mean(word_len$x)\n",
    "median(word_len$x)\n",
    "sd(word_len$x)\n"
   ]
  },
  {
   "cell_type": "code",
   "execution_count": 31,
   "metadata": {},
   "outputs": [
    {
     "data": {
      "text/html": [
       "44.497668997669"
      ],
      "text/latex": [
       "44.497668997669"
      ],
      "text/markdown": [
       "44.497668997669"
      ],
      "text/plain": [
       "[1] 44.49767"
      ]
     },
     "metadata": {},
     "output_type": "display_data"
    },
    {
     "data": {
      "text/html": [
       "38"
      ],
      "text/latex": [
       "38"
      ],
      "text/markdown": [
       "38"
      ],
      "text/plain": [
       "[1] 38"
      ]
     },
     "metadata": {},
     "output_type": "display_data"
    },
    {
     "data": {
      "text/html": [
       "27.5972187917978"
      ],
      "text/latex": [
       "27.5972187917978"
      ],
      "text/markdown": [
       "27.5972187917978"
      ],
      "text/plain": [
       "[1] 27.59722"
      ]
     },
     "metadata": {},
     "output_type": "display_data"
    }
   ],
   "source": [
    "train_pos_corpus <- train_corpus[train_corpus$tag_index == 1, ]\n",
    "word_len <- aggregate(train_pos_corpus[, c(1)], by=list(train_pos_corpus[, 2]), length)\n",
    "mean(word_len$x)\n",
    "median(word_len$x)\n",
    "sd(word_len$x)"
   ]
  },
  {
   "cell_type": "code",
   "execution_count": 32,
   "metadata": {},
   "outputs": [
    {
     "data": {
      "text/html": [
       "52.1769847050255"
      ],
      "text/latex": [
       "52.1769847050255"
      ],
      "text/markdown": [
       "52.1769847050255"
      ],
      "text/plain": [
       "[1] 52.17698"
      ]
     },
     "metadata": {},
     "output_type": "display_data"
    },
    {
     "data": {
      "text/html": [
       "45"
      ],
      "text/latex": [
       "45"
      ],
      "text/markdown": [
       "45"
      ],
      "text/plain": [
       "[1] 45"
      ]
     },
     "metadata": {},
     "output_type": "display_data"
    },
    {
     "data": {
      "text/html": [
       "31.8066263670381"
      ],
      "text/latex": [
       "31.8066263670381"
      ],
      "text/markdown": [
       "31.8066263670381"
      ],
      "text/plain": [
       "[1] 31.80663"
      ]
     },
     "metadata": {},
     "output_type": "display_data"
    }
   ],
   "source": [
    "train_neg_corpus <- train_corpus[train_corpus$tag_index == 0, ]\n",
    "word_len <- aggregate(train_neg_corpus[, c(1)], by=list(train_neg_corpus[, 2]), length)\n",
    "mean(word_len$x)\n",
    "median(word_len$x)\n",
    "sd(word_len$x)"
   ]
  },
  {
   "cell_type": "markdown",
   "metadata": {},
   "source": [
    "## test"
   ]
  },
  {
   "cell_type": "code",
   "execution_count": 21,
   "metadata": {
    "scrolled": true
   },
   "outputs": [
    {
     "data": {
      "text/html": [
       "54.633064516129"
      ],
      "text/latex": [
       "54.633064516129"
      ],
      "text/markdown": [
       "54.633064516129"
      ],
      "text/plain": [
       "[1] 54.63306"
      ]
     },
     "metadata": {},
     "output_type": "display_data"
    },
    {
     "data": {
      "text/html": [
       "43.5"
      ],
      "text/latex": [
       "43.5"
      ],
      "text/markdown": [
       "43.5"
      ],
      "text/plain": [
       "[1] 43.5"
      ]
     },
     "metadata": {},
     "output_type": "display_data"
    },
    {
     "data": {
      "text/html": [
       "37.2875557310961"
      ],
      "text/latex": [
       "37.2875557310961"
      ],
      "text/markdown": [
       "37.2875557310961"
      ],
      "text/plain": [
       "[1] 37.28756"
      ]
     },
     "metadata": {},
     "output_type": "display_data"
    }
   ],
   "source": [
    "word_len <- aggregate(test_corpus[, c(1)], by=list(test_corpus[, 2]), length)\n",
    "mean(word_len$x)\n",
    "median(word_len$x)\n",
    "sd(word_len$x)\n"
   ]
  },
  {
   "cell_type": "code",
   "execution_count": 33,
   "metadata": {},
   "outputs": [
    {
     "data": {
      "text/html": [
       "46.2594142259414"
      ],
      "text/latex": [
       "46.2594142259414"
      ],
      "text/markdown": [
       "46.2594142259414"
      ],
      "text/plain": [
       "[1] 46.25941"
      ]
     },
     "metadata": {},
     "output_type": "display_data"
    },
    {
     "data": {
      "text/html": [
       "37"
      ],
      "text/latex": [
       "37"
      ],
      "text/markdown": [
       "37"
      ],
      "text/plain": [
       "[1] 37"
      ]
     },
     "metadata": {},
     "output_type": "display_data"
    },
    {
     "data": {
      "text/html": [
       "30.1349845769621"
      ],
      "text/latex": [
       "30.1349845769621"
      ],
      "text/markdown": [
       "30.1349845769621"
      ],
      "text/plain": [
       "[1] 30.13498"
      ]
     },
     "metadata": {},
     "output_type": "display_data"
    }
   ],
   "source": [
    "test_pos_corpus <- test_corpus[test_corpus$tag_index == 1, ]\n",
    "word_len <- aggregate(test_pos_corpus[, c(1)], by=list(test_pos_corpus[, 2]), length)\n",
    "mean(word_len$x)\n",
    "median(word_len$x)\n",
    "sd(word_len$x)"
   ]
  },
  {
   "cell_type": "code",
   "execution_count": 36,
   "metadata": {},
   "outputs": [
    {
     "data": {
      "text/html": [
       "58.5960396039604"
      ],
      "text/latex": [
       "58.5960396039604"
      ],
      "text/markdown": [
       "58.5960396039604"
      ],
      "text/plain": [
       "[1] 58.59604"
      ]
     },
     "metadata": {},
     "output_type": "display_data"
    },
    {
     "data": {
      "text/html": [
       "47"
      ],
      "text/latex": [
       "47"
      ],
      "text/markdown": [
       "47"
      ],
      "text/plain": [
       "[1] 47"
      ]
     },
     "metadata": {},
     "output_type": "display_data"
    },
    {
     "data": {
      "text/html": [
       "39.6466934528525"
      ],
      "text/latex": [
       "39.6466934528525"
      ],
      "text/markdown": [
       "39.6466934528525"
      ],
      "text/plain": [
       "[1] 39.64669"
      ]
     },
     "metadata": {},
     "output_type": "display_data"
    }
   ],
   "source": [
    "test_neg_corpus <- test_corpus[test_corpus$tag_index == 0, ]\n",
    "word_len <- aggregate(test_neg_corpus[, c(1)], by=list(test_neg_corpus[, 2]), length)\n",
    "mean(word_len$x)\n",
    "median(word_len$x)\n",
    "sd(word_len$x)"
   ]
  },
  {
   "cell_type": "code",
   "execution_count": null,
   "metadata": {},
   "outputs": [],
   "source": []
  }
 ],
 "metadata": {
  "kernelspec": {
   "display_name": "R",
   "language": "R",
   "name": "ir"
  },
  "language_info": {
   "codemirror_mode": "r",
   "file_extension": ".r",
   "mimetype": "text/x-r-source",
   "name": "R",
   "pygments_lexer": "r",
   "version": "3.3.3"
  }
 },
 "nbformat": 4,
 "nbformat_minor": 2
}
