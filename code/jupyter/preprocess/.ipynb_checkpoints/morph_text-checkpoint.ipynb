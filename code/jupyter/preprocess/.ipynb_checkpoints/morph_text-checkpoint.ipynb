{
 "cells": [
  {
   "cell_type": "markdown",
   "metadata": {},
   "source": [
    "# 形態素解析\n",
    "- 空港の表記揺れは解消\n",
    "- 一文字だけの単語の消去\n",
    "- Verified review的なやつも消去\n",
    "- 全て小文字化している\n",
    "- 動詞を含むバージョンとそうでないバージョンを作成\n",
    "- 空港名は削除する必要あり"
   ]
  },
  {
   "cell_type": "code",
   "execution_count": 1,
   "metadata": {},
   "outputs": [],
   "source": [
    "import re\n",
    "import pandas as pd\n",
    "import treetaggerwrapper"
   ]
  },
  {
   "cell_type": "code",
   "execution_count": 3,
   "metadata": {},
   "outputs": [],
   "source": [
    "review = pd.read_csv(\"/Users/kosuke/thesis/airport_thesis/data/mid/corpus/airport_review_complete.csv\")\n",
    "texts = review['text']"
   ]
  },
  {
   "cell_type": "code",
   "execution_count": 8,
   "metadata": {},
   "outputs": [
    {
     "data": {
      "text/plain": [
       "\"I'm an 18 year disabled veteran and during my recent travels through Atlanta the customs team was without a doubt the worst I've ever dealt with in my life! I use a CPAP machine due to my OSA (Obstructive Sleep Apnea) and on my return transit through Atlanta customs I was treated like a common criminal. I know the customs protocols because I'm still customs certified. Before I went through I allowed a flight crew to get in front of me to expedite their process. The TSA customs agents are very belligerent and unprofessional I can understand the type of job they do on a day to day basis. But, since they deal in a profession that requires you to have interpersonal skills it really leaves something to be desired! My machine was set aside and the agent I asked as to why. Initially she didn't give me an explanation she just said I'll get to your situation in the order in which I receive it in a gruff manner. As a disabled veteran who served his country I truly feel that this is something that needs to be addressed ASAP! We are supposed to be the greatest nation in the world we should set the gold standard!\""
      ]
     },
     "execution_count": 8,
     "metadata": {},
     "output_type": "execute_result"
    }
   ],
   "source": [
    "texts[0]"
   ]
  },
  {
   "cell_type": "code",
   "execution_count": 10,
   "metadata": {
    "scrolled": true
   },
   "outputs": [],
   "source": [
    "tagger = treetaggerwrapper.TreeTagger(TAGLANG='en', TAGDIR='/Users/kosuke/TreeTagger')\n",
    "patterns = [\"hong\\nkong|hkg|hkia|^hk$\",\n",
    "            \"taiwan|taoyuan|taipei|tpe\", \n",
    "            \"klia1|klia2|klia|kuala\\nlumpur|kuala\\nlumper|^malaysia$|^kul$|kla2|^kl$\", \n",
    "            \"\\Anarita\\Z|nrt\",\n",
    "            \"haneda|hnd\",\n",
    "            \"manila|naia|mnl|ninoy\\naquino\",\n",
    "            \"beijing|^pek$\",\n",
    "            \"bangkok|suvarnabhumi|bkk|^tg$\",\n",
    "            \"incheon|icn\",\n",
    "            \"changi|singapore|^sin$\",\n",
    "            \"chicago|o'hare|^ord$\",\n",
    "            \"new\\nyork|jfk|nyc\",\n",
    "            \"san\\nfrancisco|^sfo$\",\n",
    "            \"atlanta|^atl$\",\n",
    "            \"los\\nangeles|lax|tom\\nbradley\",\n",
    "            \"shanghai\\npudong|shanghai|pudong|pvg\",\n",
    "            \"jakarta|cgk\",\n",
    "            \"paris|cdg|charles\\nde\\ngaulle\",\n",
    "            \"rome|^fco$|fiumicino\",\n",
    "            \"frankfurt|^fra$\",\n",
    "            \"heathrow|^lhr$\",\n",
    "            \"delhi|^del$|^igi$\",\n",
    "            \"mumbai|^bom$\",\n",
    "            \"dubai|dxb\",\n",
    "            \"hamad|doha|^doh$\",\n",
    "            \"newark|^ewr$\",\n",
    "            \"las\\nvegas|vegas|maccarran\",\n",
    "            \"denver|^den$|^dia$\",\n",
    "            \"orlando|orland|^mco$\",\n",
    "            \"ataturk|istanbul|^ist$\",\n",
    "            \"madrid|^mad$|barajas\",\n",
    "            \"amsterdam|^ams$|schiphol|schipol\",\n",
    "            \"toronto|pearson|yyz\",\n",
    "            \"munich|^muc$\",\n",
    "            \"gatwick|lgw\",\n",
    "            \"sydney|^syd$\",\n",
    "            \"barcelona|bcn\",\n",
    "            \"guangzhou|baiyun\",\n",
    "            \"miami|^mia$\",\n",
    "            \"charlotte_douglas|^clt$\",\n",
    "            \"phoenix_sky_harbor|phoenix|phx\",\n",
    "            \"seattle|seatac|tacoma\",\n",
    "            \"dallas|dfw\",\n",
    "            \"houston|^iah$\",\n",
    "            \"minneapolis|^msp$|minneapolis\\nst\\npaul\",\n",
    "            \"mexico\\ncity|^mex$\",\n",
    "            \"wifi|wi-fi\",\n",
    "            \"line|queue\",\n",
    "            \"usa|^us$|^america$\",\n",
    "            \"^uk$|british\",\n",
    "            \"terminal|t1|t2|t3|t4|t5|2a|2b|2c|2d|2e|2f|2g\",\n",
    "            \"abu\\ndhabi\",\n",
    "            \"laguardia|la\\nguardia\",\n",
    "            \"british\\nairways|^ba$\",\n",
    "            \"virgin\\natlantic\",\n",
    "            \"united\\nairline|^ua$\",\n",
    "            \"amrican\\nairline|^aa$\"\n",
    "            ]\n",
    "terms = [\"hong_kong\",\n",
    "         \"taiwan\", \n",
    "         \"kuala_lumpur\",\n",
    "         \"narita\", \n",
    "         \"haneda\", \n",
    "         \"manila\", \n",
    "         \"beijing\", \n",
    "         \"bangkok\", \n",
    "         \"incheon\", \n",
    "         \"changi\",\n",
    "         \"chicago\",\n",
    "         \"new_york\",\n",
    "         \"san_francisco\",\n",
    "         \"atlanta\",\n",
    "         \"los_angels\",\n",
    "         \"shanghai\",\n",
    "         \"jakarta\",\n",
    "         \"paris\",\n",
    "         \"rome\",\n",
    "         \"frankfurt\",\n",
    "         \"heathrow\",\n",
    "         \"delhi\",\n",
    "         \"mumbai\",\n",
    "         \"dubai\",\n",
    "         \"hamad\",\n",
    "         \"newark\",\n",
    "         \"las_vegas\",\n",
    "         \"denver\",\n",
    "         \"orland\",\n",
    "         \"ataturk\",\n",
    "         \"madrid\",\n",
    "         \"amsterdam\",\n",
    "         \"toronto\",\n",
    "         \"munich\",\n",
    "         \"gatwick\",\n",
    "         \"sydney\",\n",
    "         \"barcelona\",\n",
    "         \"guangzhou\",\n",
    "         \"miami\",\n",
    "         \"charlotte_douglas\",\n",
    "         \"phoenix\",\n",
    "         \"seattle\",\n",
    "         \"dallas\",\n",
    "         \"houston\",\n",
    "         \"minneapolis\",\n",
    "         \"mexico_city\",\n",
    "         \"wifi\",\n",
    "         \"line\",\n",
    "         \"usa\",\n",
    "         \"uk\",\n",
    "         \"terminal\",\n",
    "         \"abu_dhabi\",\n",
    "         \"laguardia\",\n",
    "         \"british_airways\",\n",
    "         \"virgin_atlantic\",\n",
    "         \"united_airline\",\n",
    "         \"american_airline\"\n",
    "        ]"
   ]
  },
  {
   "cell_type": "code",
   "execution_count": 11,
   "metadata": {},
   "outputs": [],
   "source": [
    "stop_words = \"unverified\\n|review\\n|verify\\n|hong_kong\\n|taiwan\\n|kuala_lumpur\\n|narita\\n|haneda\\n|kansai\\n|manila\\n|beijing\\n|bangkok\\n|incheon\\n|changi\\n|chicago\\n|vancouver\\n|new_york\\n|san_francisco\\n|atlanta\\n|los_angels\\n|shanghai\\n|jakarta\\n|paris\\n|^rome$\\n|frankfurt\\n|heathrow\\n|delhi\\n|mumbai\\n|dubai\\n|hamad\\n|newark\\n|las_vegas\\n|denver\\n|orland\\n|ataturk\\n|madrid\\n|amsterdam\\n|toronto\\n|munich\\n|gatwick\\n|sydney\\n|barcelona\\n|guangzhou\\n|miami\\n|unverified|review|verify|hong_kong|taiwan|kuala_lumpur|narita|haneda|kansai|manila|beijing|bangkok|incheon|changi|chicago|vancouver|new_york|san_francisco|atlanta|los_angels|shanghai|jakarta|paris|^rome$|frankfurt|heathrow|delhi|mumbai|dubai|hamad|newark|las_vegas|denver|orland|ataturk|madrid|amsterdam|toronto|munich|gatwick|sydney|barcelona|guangzhou|miami|charlotte_douglas\\n|charlotte_douglas|phoenix\\n|phoenix|seattle\\n|seattle|dallas\\n|dallas|houston\\n|houston|mexico_city\\n|mexico_city\""
   ]
  },
  {
   "cell_type": "code",
   "execution_count": 15,
   "metadata": {
    "scrolled": true
   },
   "outputs": [
    {
     "ename": "TreeTaggerError",
     "evalue": "Time out for TreeTagger reply, enable debug / see error logs",
     "output_type": "error",
     "traceback": [
      "\u001b[0;31m---------------------------------------------------------------------------\u001b[0m",
      "\u001b[0;31mTreeTaggerError\u001b[0m                           Traceback (most recent call last)",
      "\u001b[0;32m<ipython-input-15-b4a6d6839a0d>\u001b[0m in \u001b[0;36m<module>\u001b[0;34m()\u001b[0m\n\u001b[1;32m      2\u001b[0m \u001b[0mpos_list\u001b[0m \u001b[0;34m=\u001b[0m \u001b[0;34m[\u001b[0m\u001b[0;34m'NN'\u001b[0m\u001b[0;34m,\u001b[0m \u001b[0;34m'JJ'\u001b[0m\u001b[0;34m,\u001b[0m \u001b[0;34m'NNS'\u001b[0m\u001b[0;34m,\u001b[0m \u001b[0;34m'VVD'\u001b[0m\u001b[0;34m,\u001b[0m \u001b[0;34m'NP'\u001b[0m\u001b[0;34m,\u001b[0m \u001b[0;34m'VVN'\u001b[0m\u001b[0;34m,\u001b[0m \u001b[0;34m'JJS'\u001b[0m\u001b[0;34m,\u001b[0m \u001b[0;34m'VV'\u001b[0m\u001b[0;34m,\u001b[0m \u001b[0;34m'JJR'\u001b[0m\u001b[0;34m]\u001b[0m\u001b[0;34m\u001b[0m\u001b[0m\n\u001b[1;32m      3\u001b[0m \u001b[0;32mfor\u001b[0m \u001b[0mtext\u001b[0m \u001b[0;32min\u001b[0m \u001b[0mlist\u001b[0m\u001b[0;34m(\u001b[0m\u001b[0mtexts\u001b[0m\u001b[0;34m)\u001b[0m\u001b[0;34m[\u001b[0m\u001b[0;36m0\u001b[0m\u001b[0;34m]\u001b[0m\u001b[0;34m:\u001b[0m\u001b[0;34m\u001b[0m\u001b[0m\n\u001b[0;32m----> 4\u001b[0;31m     \u001b[0mmorph\u001b[0m \u001b[0;34m=\u001b[0m \u001b[0mpd\u001b[0m\u001b[0;34m.\u001b[0m\u001b[0mDataFrame\u001b[0m\u001b[0;34m(\u001b[0m\u001b[0mtreetaggerwrapper\u001b[0m\u001b[0;34m.\u001b[0m\u001b[0mmake_tags\u001b[0m\u001b[0;34m(\u001b[0m\u001b[0mtagger\u001b[0m\u001b[0;34m.\u001b[0m\u001b[0mTagText\u001b[0m\u001b[0;34m(\u001b[0m\u001b[0mtext\u001b[0m\u001b[0;34m)\u001b[0m\u001b[0;34m)\u001b[0m\u001b[0;34m)\u001b[0m\u001b[0;34m\u001b[0m\u001b[0m\n\u001b[0m\u001b[1;32m      5\u001b[0m     \u001b[0mmorph_sp\u001b[0m \u001b[0;34m=\u001b[0m \u001b[0mmorph\u001b[0m\u001b[0;34m[\u001b[0m\u001b[0mmorph\u001b[0m\u001b[0;34m[\u001b[0m\u001b[0;34m'pos'\u001b[0m\u001b[0;34m]\u001b[0m\u001b[0;34m.\u001b[0m\u001b[0misin\u001b[0m\u001b[0;34m(\u001b[0m\u001b[0mpos_list\u001b[0m\u001b[0;34m)\u001b[0m\u001b[0;34m]\u001b[0m\u001b[0;34m[\u001b[0m\u001b[0;34m'lemma'\u001b[0m\u001b[0;34m]\u001b[0m\u001b[0;34m\u001b[0m\u001b[0m\n\u001b[1;32m      6\u001b[0m     \u001b[0mmorph_sp\u001b[0m \u001b[0;34m=\u001b[0m \u001b[0mmorph_sp\u001b[0m\u001b[0;34m.\u001b[0m\u001b[0mapply\u001b[0m\u001b[0;34m(\u001b[0m\u001b[0;32mlambda\u001b[0m \u001b[0mx\u001b[0m\u001b[0;34m:\u001b[0m \u001b[0mx\u001b[0m\u001b[0;34m.\u001b[0m\u001b[0mlower\u001b[0m\u001b[0;34m(\u001b[0m\u001b[0;34m)\u001b[0m\u001b[0;34m)\u001b[0m\u001b[0;34m\u001b[0m\u001b[0m\n",
      "\u001b[0;32m~/.virtualenv/airport/lib/python3.6/site-packages/treetaggerwrapper.py\u001b[0m in \u001b[0;36mTagText\u001b[0;34m(self, text, numlines, tagonly, prepronly, tagblanks, notagurl, notagemail, notagip, notagdns, encoding, errors)\u001b[0m\n\u001b[1;32m   1235\u001b[0m         return self.tag_text(text, numlines=numlines, tagonly=tagonly,\n\u001b[1;32m   1236\u001b[0m                  \u001b[0mprepronly\u001b[0m\u001b[0;34m=\u001b[0m\u001b[0mprepronly\u001b[0m\u001b[0;34m,\u001b[0m \u001b[0mtagblanks\u001b[0m\u001b[0;34m=\u001b[0m\u001b[0mtagblanks\u001b[0m\u001b[0;34m,\u001b[0m \u001b[0mnotagurl\u001b[0m\u001b[0;34m=\u001b[0m\u001b[0mnotagurl\u001b[0m\u001b[0;34m,\u001b[0m\u001b[0;34m\u001b[0m\u001b[0m\n\u001b[0;32m-> 1237\u001b[0;31m                  notagemail=notagemail, notagip=notagip, notagdns=notagdns)\n\u001b[0m\u001b[1;32m   1238\u001b[0m \u001b[0;34m\u001b[0m\u001b[0m\n\u001b[1;32m   1239\u001b[0m     \u001b[0;31m# --------------------------------------------------------------------------\u001b[0m\u001b[0;34m\u001b[0m\u001b[0;34m\u001b[0m\u001b[0m\n",
      "\u001b[0;32m~/.virtualenv/airport/lib/python3.6/site-packages/treetaggerwrapper.py\u001b[0m in \u001b[0;36mtag_text\u001b[0;34m(self, text, numlines, tagonly, prepronly, tagblanks, notagurl, notagemail, notagip, notagdns, nosgmlsplit)\u001b[0m\n\u001b[1;32m   1363\u001b[0m                         \u001b[0;31m# process communication. This avoid infinite loop.\u001b[0m\u001b[0;34m\u001b[0m\u001b[0;34m\u001b[0m\u001b[0m\n\u001b[1;32m   1364\u001b[0m                         \u001b[0mlogger\u001b[0m\u001b[0;34m.\u001b[0m\u001b[0merror\u001b[0m\u001b[0;34m(\u001b[0m\u001b[0;34m\"Time out for TreeTagger reply.\"\u001b[0m\u001b[0;34m)\u001b[0m\u001b[0;34m\u001b[0m\u001b[0m\n\u001b[0;32m-> 1365\u001b[0;31m                         \u001b[0;32mraise\u001b[0m \u001b[0mTreeTaggerError\u001b[0m\u001b[0;34m(\u001b[0m\u001b[0;34m\"Time out for TreeTagger reply, enable debug / see error logs\"\u001b[0m\u001b[0;34m)\u001b[0m\u001b[0;34m\u001b[0m\u001b[0m\n\u001b[0m\u001b[1;32m   1366\u001b[0m                     \u001b[0;32melse\u001b[0m\u001b[0;34m:\u001b[0m\u001b[0;34m\u001b[0m\u001b[0m\n\u001b[1;32m   1367\u001b[0m                         \u001b[0;31m# We process too much quickly, leave time for tagger and writer\u001b[0m\u001b[0;34m\u001b[0m\u001b[0;34m\u001b[0m\u001b[0m\n",
      "\u001b[0;31mTreeTaggerError\u001b[0m: Time out for TreeTagger reply, enable debug / see error logs"
     ]
    }
   ],
   "source": [
    "morphed_text = []\n",
    "pos_list = ['NN', 'JJ', 'NNS', 'VVD', 'NP', 'VVN', 'JJS', 'VV', 'JJR']\n",
    "for text in list(texts):\n",
    "    morph = pd.DataFrame(treetaggerwrapper.make_tags(tagger.TagText(text)))\n",
    "    morph_sp = morph[morph['pos'].isin(pos_list)]['lemma']\n",
    "    morph_sp = morph_sp.apply(lambda x: x.lower())\n",
    "    morph_sp = morph_sp[morph_sp.apply(len) != 1]\n",
    "    tmp_text = '\\n'.join(morph_sp)\n",
    "    for term, pattern in zip(terms, patterns):\n",
    "        if re.search(pattern, tmp_text, flags=(re.MULTILINE | re.DOTALL)):\n",
    "            tmp_text = re.sub(pattern, term, tmp_text, flags=(re.MULTILINE | re.DOTALL))\n",
    "    tmp_text = re.sub(stop_words, \"\", tmp_text, flags=(re.MULTILINE | re.DOTALL))\n",
    "    morphed_text.append(re.sub(\"\\n\", \" \", tmp_text))\n",
    "output = pd.DataFrame(morphed_text, columns=['text'])\n"
   ]
  },
  {
   "cell_type": "code",
   "execution_count": null,
   "metadata": {},
   "outputs": [],
   "source": []
  }
 ],
 "metadata": {
  "kernelspec": {
   "display_name": "Python 3",
   "language": "python",
   "name": "python3"
  },
  "language_info": {
   "codemirror_mode": {
    "name": "ipython",
    "version": 3
   },
   "file_extension": ".py",
   "mimetype": "text/x-python",
   "name": "python",
   "nbconvert_exporter": "python",
   "pygments_lexer": "ipython3",
   "version": "3.6.5"
  }
 },
 "nbformat": 4,
 "nbformat_minor": 2
}
