{
 "cells": [
  {
   "cell_type": "markdown",
   "metadata": {},
   "source": [
    "# Making various input data"
   ]
  },
  {
   "cell_type": "code",
   "execution_count": 1,
   "metadata": {},
   "outputs": [
    {
     "name": "stderr",
     "output_type": "stream",
     "text": [
      "\n",
      "Attaching package: ‘dplyr’\n",
      "\n",
      "The following objects are masked from ‘package:stats’:\n",
      "\n",
      "    filter, lag\n",
      "\n",
      "The following objects are masked from ‘package:base’:\n",
      "\n",
      "    intersect, setdiff, setequal, union\n",
      "\n"
     ]
    }
   ],
   "source": [
    "library(lda)\n",
    "library(stringr)\n",
    "library(dplyr)\n",
    "source('/Users/kosuke/thesis/airport_thesis/code/utils/date.R')\n",
    "source('/Users/kosuke/thesis/airport_thesis/code/utils/corpus.R')"
   ]
  },
  {
   "cell_type": "markdown",
   "metadata": {},
   "source": [
    "#### must load"
   ]
  },
  {
   "cell_type": "code",
   "execution_count": 2,
   "metadata": {},
   "outputs": [],
   "source": [
    "data          <- read.csv(\"/Users/kosuke/thesis/airport_thesis/data/mid/corpus/airport_review_complete.csv\", stringsAsFactors=F)\n",
    "review        <- read.csv(\"/Users/kosuke/thesis/airport_thesis/data/mid/corpus/morphed_text.csv\", stringsAsFactors=F)\n",
    "data$yymm     <- as.Date(apply(as.data.frame(data$datetime), 1, get_monthly))\n",
    "data$review   <- review$text\n",
    "\n",
    "target_data      <- data[data$yymm >= '2012-01-01',]\n",
    "data_early_order <- target_data[order(target_data$yymm), ]\n",
    "\n",
    "D     <- nrow(data_early_order)\n",
    "bound <- round(0.9 * D) # 9割でテストデータを分ける\n",
    "\n",
    "train_data    <- data_early_order[1:bound, ]\n",
    "test_data     <- data_early_order[(bound + 1):D, ]\n",
    "reversed_data <- rbind(train_data, test_data)\n",
    "\n"
   ]
  },
  {
   "cell_type": "markdown",
   "metadata": {},
   "source": [
    "## Split Train-Test"
   ]
  },
  {
   "cell_type": "markdown",
   "metadata": {},
   "source": [
    "#### making train-test corpus"
   ]
  },
  {
   "cell_type": "code",
   "execution_count": 7,
   "metadata": {},
   "outputs": [],
   "source": [
    "vocab <- feature_select(reversed_data$review, 0)\n",
    "\n",
    "corpus       <- create_tags_corpus(text=reversed_data$review, vocab=vocab, y=reversed_data$Recommended)\n",
    "train_corpus <- corpus[corpus[,2] <= bound,]\n",
    "test_corpus  <- corpus[corpus[,2] > bound, ]"
   ]
  },
  {
   "cell_type": "code",
   "execution_count": 5,
   "metadata": {},
   "outputs": [],
   "source": [
    "vocab <- feature_select(reversed_data$review, 0)\n",
    "\n",
    "corpus       <- create_tags_corpus(text=reversed_data$review, vocab=vocab, y=reversed_data$Recommended)\n",
    "train_corpus <- corpus[corpus[,2] <= bound,]\n",
    "test_corpus  <- corpus[corpus[,2] > bound, ]\n",
    "\n",
    "write.csv(data.frame(vocab), \n",
    "          \"/Users/kosuke/thesis/airport_thesis/data/mid/corpus/train_vocab.csv\", row.names=F)\n",
    "write.csv(as.data.frame(train_corpus), \n",
    "          \"/Users/kosuke/thesis/airport_thesis/data/mid/corpus/train_corpus.csv\", row.names=F)\n",
    "write.csv(as.data.frame(test_corpus), \n",
    "          \"/Users/kosuke/thesis/airport_thesis/data/mid/corpus/test_corpus.csv\", row.names=F)"
   ]
  },
  {
   "cell_type": "code",
   "execution_count": 4,
   "metadata": {},
   "outputs": [],
   "source": [
    "vocab <- feature_select(train_data$review, 0)\n",
    "\n",
    "corpus       <- create_tags_corpus(text=reversed_data$review, vocab=vocab, y=reversed_data$Recommended)\n",
    "train_corpus <- corpus[corpus[,2] <= bound,]\n",
    "test_corpus  <- corpus[corpus[,2] > bound, ]\n",
    "\n",
    "write.csv(data.frame(vocab), \n",
    "          \"/Users/kosuke/thesis/airport_thesis/data/mid/corpus/train_vocab.csv\", row.names=F)\n",
    "write.csv(as.data.frame(train_corpus), \n",
    "          \"/Users/kosuke/thesis/airport_thesis/data/mid/corpus/train_corpus.csv\", row.names=F)\n",
    "write.csv(as.data.frame(test_corpus), \n",
    "          \"/Users/kosuke/thesis/airport_thesis/data/mid/corpus/test_corpus.csv\", row.names=F)"
   ]
  },
  {
   "cell_type": "markdown",
   "metadata": {},
   "source": [
    "## 特徴量のチューニング"
   ]
  },
  {
   "cell_type": "code",
   "execution_count": 14,
   "metadata": {},
   "outputs": [],
   "source": [
    "min_count <- 10 # 任意の値にする\n",
    "\n",
    "vocab  <- feature_select(train_data$review, min_count)\n",
    "corpus <- create_tags_corpus(text=reversed_data$review, vocab=vocab, y=reversed_data$Recommended)\n",
    "train_corpus <- corpus[corpus[,2] <= bound,]\n",
    "test_corpus  <- corpus[corpus[,2] > bound, ]\n",
    "\n",
    "write.csv(data.frame(vocab), \"/Users/kosuke/thesis/airport_thesis/data/mid/corpus/train_vocab_10.csv\", row.names=F)\n",
    "write.csv(as.data.frame(train_corpus), \n",
    "          \"/Users/kosuke/thesis/airport_thesis/data/mid/corpus/train_corpus_10.csv\", row.names=F)\n",
    "write.csv(as.data.frame(test_corpus), \n",
    "          \"/Users/kosuke/thesis/airport_thesis/data/mid/corpus/test_corpus_10.csv\", row.names=F)"
   ]
  },
  {
   "cell_type": "markdown",
   "metadata": {},
   "source": [
    "## MPQA lexicon\n",
    "http://mpqa.cs.pitt.edu/lexicons/subj_lexicon/"
   ]
  },
  {
   "cell_type": "code",
   "execution_count": 1,
   "metadata": {},
   "outputs": [],
   "source": [
    "lexicon <- read.table(\"/Users/kosuke/cs_stat_ml/lexicon/lexicon.tff\")"
   ]
  },
  {
   "cell_type": "code",
   "execution_count": 2,
   "metadata": {},
   "outputs": [
    {
     "data": {
      "text/html": [
       "8222"
      ],
      "text/latex": [
       "8222"
      ],
      "text/markdown": [
       "8222"
      ],
      "text/plain": [
       "[1] 8222"
      ]
     },
     "metadata": {},
     "output_type": "display_data"
    }
   ],
   "source": [
    "nrow(lexicon)"
   ]
  },
  {
   "cell_type": "code",
   "execution_count": 72,
   "metadata": {},
   "outputs": [],
   "source": [
    "parser_word <- function(x){\n",
    "    return (str_replace(x, \"word1=\", \"\"))\n",
    "}\n",
    "\n",
    "parser_polarity <- function(x){\n",
    "    return (str_replace(x, \"priorpolarity=\", \"\"))\n",
    "}"
   ]
  },
  {
   "cell_type": "code",
   "execution_count": 76,
   "metadata": {
    "scrolled": true
   },
   "outputs": [],
   "source": [
    "lexicon_word <- data.frame(lexicon[, 3])\n",
    "lexicon_polarity <- data.frame(lexicon[, 6])"
   ]
  },
  {
   "cell_type": "code",
   "execution_count": 96,
   "metadata": {},
   "outputs": [],
   "source": [
    "word <- apply(lexicon_word, 1, parser_word)\n",
    "polarity <- apply(lexicon_polarity, 1, parser_polarity)"
   ]
  },
  {
   "cell_type": "code",
   "execution_count": 148,
   "metadata": {
    "scrolled": false
   },
   "outputs": [
    {
     "data": {
      "text/html": [
       "7631"
      ],
      "text/latex": [
       "7631"
      ],
      "text/markdown": [
       "7631"
      ],
      "text/plain": [
       "[1] 7631"
      ]
     },
     "metadata": {},
     "output_type": "display_data"
    }
   ],
   "source": [
    "polarity_dic <- data.frame(word=word, polarity=polarity)\n",
    "polarity_dic <- polarity_dic[polarity_dic[,2] %in% c(\"positive\", \"negative\"),]"
   ]
  },
  {
   "cell_type": "code",
   "execution_count": 144,
   "metadata": {
    "scrolled": true
   },
   "outputs": [],
   "source": [
    "vocab_index <- cbind(vocab, seq(1, nrow(vocab)))\n",
    "colnames(vocab_index) <- c(\"word\", \"word_index\")"
   ]
  },
  {
   "cell_type": "code",
   "execution_count": 149,
   "metadata": {
    "scrolled": false
   },
   "outputs": [
    {
     "name": "stderr",
     "output_type": "stream",
     "text": [
      "Warning message:\n",
      "“Column `word` joining factors with different levels, coercing to character vector”"
     ]
    }
   ],
   "source": [
    "target_pol_dic <- inner_join(polarity_dic, vocab_index, by=\"word\")"
   ]
  },
  {
   "cell_type": "code",
   "execution_count": 152,
   "metadata": {
    "scrolled": true
   },
   "outputs": [],
   "source": [
    "write.csv(unique(target_pol_dic), \"/Users/kosuke/thesis/airport_thesis/data/mid/corpus/lexicon.csv\", row.names=F)"
   ]
  },
  {
   "cell_type": "code",
   "execution_count": null,
   "metadata": {},
   "outputs": [],
   "source": []
  }
 ],
 "metadata": {
  "kernelspec": {
   "display_name": "R",
   "language": "R",
   "name": "ir"
  },
  "language_info": {
   "codemirror_mode": "r",
   "file_extension": ".r",
   "mimetype": "text/x-r-source",
   "name": "R",
   "pygments_lexer": "r",
   "version": "3.3.3"
  }
 },
 "nbformat": 4,
 "nbformat_minor": 2
}
